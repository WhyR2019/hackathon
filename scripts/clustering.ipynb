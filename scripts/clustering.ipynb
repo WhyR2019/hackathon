{
 "cells": [
  {
   "cell_type": "code",
   "execution_count": 37,
   "metadata": {},
   "outputs": [],
   "source": [
    "import pandas as pd\n",
    "import numpy as np\n",
    "import os\n",
    "import matplotlib.pyplot as plt\n",
    "import re\n",
    "import geopandas as gpd\n",
    "from shapely.geometry import Point, Polygon\n",
    "from sklearn.cluster import AgglomerativeClustering\n",
    "import seaborn as sns\n",
    "from descartes import PolygonPatch"
   ]
  },
  {
   "cell_type": "code",
   "execution_count": 3,
   "metadata": {},
   "outputs": [
    {
     "name": "stdout",
     "output_type": "stream",
     "text": [
      "['\\n'] list index out of range\n"
     ]
    }
   ],
   "source": [
    "values = []\n",
    "with open('../data/warsaw_wgs84_every_100m.txt', 'r') as f:\n",
    "    for line in f:\n",
    "        splitted = line.split('\\t')\n",
    "        try:\n",
    "            splitted[2] = re.sub('\\n', '', splitted[2])\n",
    "            values.append(splitted)\n",
    "        except IndexError as e:\n",
    "            print(splitted, e)"
   ]
  },
  {
   "cell_type": "code",
   "execution_count": 4,
   "metadata": {},
   "outputs": [],
   "source": [
    "df = pd.DataFrame(data=values, columns=['Lon', 'Lat', 'District'])"
   ]
  },
  {
   "cell_type": "code",
   "execution_count": 5,
   "metadata": {},
   "outputs": [],
   "source": [
    "df['Lon'] = pd.to_numeric(df['Lon'],errors='coerce')\n",
    "df['Lat'] = pd.to_numeric(df['Lat'],errors='coerce')"
   ]
  },
  {
   "cell_type": "code",
   "execution_count": 6,
   "metadata": {},
   "outputs": [],
   "source": [
    "geometry = [Point(xy) for xy in zip(df.Lon, df.Lat)]\n",
    "#df = df.drop(['Lon', 'Lat'], axis=1)"
   ]
  },
  {
   "cell_type": "code",
   "execution_count": 9,
   "metadata": {},
   "outputs": [],
   "source": [
    "crs = {'init': 'epsg:4326'}\n",
    "map_gdf = gpd.GeoDataFrame(df, crs=crs, geometry=geometry)"
   ]
  },
  {
   "cell_type": "code",
   "execution_count": 15,
   "metadata": {},
   "outputs": [
    {
     "data": {
      "image/png": "[encoded data removed]",
      "text/plain": [
       "<Figure size 432x288 with 1 Axes>"
      ]
     },
     "metadata": {
      "needs_background": "light"
     },
     "output_type": "display_data"
    }
   ],
   "source": [
    "map_gdf.plot()"
   ]
  },
  {
   "cell_type": "code",
   "execution_count": 11,
   "metadata": {},
   "outputs": [
    {
     "data": {
      "image/png": "[encoded data removed]",
      "text/plain": [
       "<Figure size 432x288 with 1 Axes>"
      ]
     },
     "metadata": {
      "needs_background": "light"
     },
     "output_type": "display_data"
    }
   ],
   "source": [
    "data_gdf = gpd.read_file('../data/data.csv')\n",
    "data_gdf.crs = {'init': 'epsg:4326'}"
   ]
  },
  {
   "cell_type": "code",
   "execution_count": 12,
   "metadata": {},
   "outputs": [],
   "source": [
    "data_gdf['lng'] = pd.to_numeric(data_gdf['lng'],errors='coerce')\n",
    "data_gdf['lat'] = pd.to_numeric(data_gdf['lat'],errors='coerce')"
   ]
  },
  {
   "cell_type": "code",
   "execution_count": 13,
   "metadata": {},
   "outputs": [],
   "source": [
    "data_gdf.geometry= [Point(xy) for xy in zip(data_gdf.lng, data_gdf.lat)]"
   ]
  },
  {
   "cell_type": "code",
   "execution_count": 18,
   "metadata": {},
   "outputs": [
    {
     "data": {
      "text/html": [
       "<div>\n",
       "<style scoped>\n",
       "    .dataframe tbody tr th:only-of-type {\n",
       "        vertical-align: middle;\n",
       "    }\n",
       "\n",
       "    .dataframe tbody tr th {\n",
       "        vertical-align: top;\n",
       "    }\n",
       "\n",
       "    .dataframe thead th {\n",
       "        text-align: right;\n",
       "    }\n",
       "</style>\n",
       "<table border=\"1\" class=\"dataframe\">\n",
       "  <thead>\n",
       "    <tr style=\"text-align: right;\">\n",
       "      <th></th>\n",
       "      <th>field_1</th>\n",
       "      <th>x</th>\n",
       "      <th>y</th>\n",
       "      <th>name</th>\n",
       "      <th>vicinity</th>\n",
       "      <th>place_id</th>\n",
       "      <th>types</th>\n",
       "      <th>rating</th>\n",
       "      <th>user_ratings_total</th>\n",
       "      <th>lat</th>\n",
       "      <th>lng</th>\n",
       "      <th>type</th>\n",
       "      <th>hour</th>\n",
       "      <th>occupancy_index</th>\n",
       "      <th>occupancy_text</th>\n",
       "      <th>day</th>\n",
       "      <th>av_time_spent</th>\n",
       "      <th>min_time_spent_minutes</th>\n",
       "      <th>max_time_spent_minutes</th>\n",
       "      <th>geometry</th>\n",
       "    </tr>\n",
       "  </thead>\n",
       "  <tbody>\n",
       "    <tr>\n",
       "      <td>0</td>\n",
       "      <td>0</td>\n",
       "      <td>52.108079529075006</td>\n",
       "      <td>21.008527272811</td>\n",
       "      <td>ArtDental</td>\n",
       "      <td>Łabędzia 37/2, Piaseczno</td>\n",
       "      <td>ChIJJ6twpQMuGUcR8_z-dNLSZMg</td>\n",
       "      <td>doctor,dentist,health</td>\n",
       "      <td>3.2</td>\n",
       "      <td>15.0</td>\n",
       "      <td>52.096356</td>\n",
       "      <td>21.011951</td>\n",
       "      <td>dentist</td>\n",
       "      <td>6</td>\n",
       "      <td>0</td>\n",
       "      <td></td>\n",
       "      <td>Sunday</td>\n",
       "      <td>People typically spend 25 min to 1.5 hr here</td>\n",
       "      <td>25</td>\n",
       "      <td>90</td>\n",
       "      <td>POINT (21.0119505 52.0963563)</td>\n",
       "    </tr>\n",
       "    <tr>\n",
       "      <td>1</td>\n",
       "      <td>1</td>\n",
       "      <td>52.108079529075006</td>\n",
       "      <td>21.008527272811</td>\n",
       "      <td>ArtDental</td>\n",
       "      <td>Łabędzia 37/2, Piaseczno</td>\n",
       "      <td>ChIJJ6twpQMuGUcR8_z-dNLSZMg</td>\n",
       "      <td>doctor,dentist,health</td>\n",
       "      <td>3.2</td>\n",
       "      <td>15.0</td>\n",
       "      <td>52.096356</td>\n",
       "      <td>21.011951</td>\n",
       "      <td>dentist</td>\n",
       "      <td>7</td>\n",
       "      <td>0</td>\n",
       "      <td></td>\n",
       "      <td>Sunday</td>\n",
       "      <td>People typically spend 25 min to 1.5 hr here</td>\n",
       "      <td>25</td>\n",
       "      <td>90</td>\n",
       "      <td>POINT (21.0119505 52.0963563)</td>\n",
       "    </tr>\n",
       "    <tr>\n",
       "      <td>2</td>\n",
       "      <td>2</td>\n",
       "      <td>52.108079529075006</td>\n",
       "      <td>21.008527272811</td>\n",
       "      <td>ArtDental</td>\n",
       "      <td>Łabędzia 37/2, Piaseczno</td>\n",
       "      <td>ChIJJ6twpQMuGUcR8_z-dNLSZMg</td>\n",
       "      <td>doctor,dentist,health</td>\n",
       "      <td>3.2</td>\n",
       "      <td>15.0</td>\n",
       "      <td>52.096356</td>\n",
       "      <td>21.011951</td>\n",
       "      <td>dentist</td>\n",
       "      <td>8</td>\n",
       "      <td>0</td>\n",
       "      <td></td>\n",
       "      <td>Sunday</td>\n",
       "      <td>People typically spend 25 min to 1.5 hr here</td>\n",
       "      <td>25</td>\n",
       "      <td>90</td>\n",
       "      <td>POINT (21.0119505 52.0963563)</td>\n",
       "    </tr>\n",
       "    <tr>\n",
       "      <td>3</td>\n",
       "      <td>3</td>\n",
       "      <td>52.108079529075006</td>\n",
       "      <td>21.008527272811</td>\n",
       "      <td>ArtDental</td>\n",
       "      <td>Łabędzia 37/2, Piaseczno</td>\n",
       "      <td>ChIJJ6twpQMuGUcR8_z-dNLSZMg</td>\n",
       "      <td>doctor,dentist,health</td>\n",
       "      <td>3.2</td>\n",
       "      <td>15.0</td>\n",
       "      <td>52.096356</td>\n",
       "      <td>21.011951</td>\n",
       "      <td>dentist</td>\n",
       "      <td>9</td>\n",
       "      <td>0</td>\n",
       "      <td></td>\n",
       "      <td>Sunday</td>\n",
       "      <td>People typically spend 25 min to 1.5 hr here</td>\n",
       "      <td>25</td>\n",
       "      <td>90</td>\n",
       "      <td>POINT (21.0119505 52.0963563)</td>\n",
       "    </tr>\n",
       "    <tr>\n",
       "      <td>4</td>\n",
       "      <td>4</td>\n",
       "      <td>52.108079529075006</td>\n",
       "      <td>21.008527272811</td>\n",
       "      <td>ArtDental</td>\n",
       "      <td>Łabędzia 37/2, Piaseczno</td>\n",
       "      <td>ChIJJ6twpQMuGUcR8_z-dNLSZMg</td>\n",
       "      <td>doctor,dentist,health</td>\n",
       "      <td>3.2</td>\n",
       "      <td>15.0</td>\n",
       "      <td>52.096356</td>\n",
       "      <td>21.011951</td>\n",
       "      <td>dentist</td>\n",
       "      <td>10</td>\n",
       "      <td>0</td>\n",
       "      <td></td>\n",
       "      <td>Sunday</td>\n",
       "      <td>People typically spend 25 min to 1.5 hr here</td>\n",
       "      <td>25</td>\n",
       "      <td>90</td>\n",
       "      <td>POINT (21.0119505 52.0963563)</td>\n",
       "    </tr>\n",
       "  </tbody>\n",
       "</table>\n",
       "</div>"
      ],
      "text/plain": [
       "  field_1                   x                y       name  \\\n",
       "0       0  52.108079529075006  21.008527272811  ArtDental   \n",
       "1       1  52.108079529075006  21.008527272811  ArtDental   \n",
       "2       2  52.108079529075006  21.008527272811  ArtDental   \n",
       "3       3  52.108079529075006  21.008527272811  ArtDental   \n",
       "4       4  52.108079529075006  21.008527272811  ArtDental   \n",
       "\n",
       "                   vicinity                     place_id  \\\n",
       "0  Łabędzia 37/2, Piaseczno  ChIJJ6twpQMuGUcR8_z-dNLSZMg   \n",
       "1  Łabędzia 37/2, Piaseczno  ChIJJ6twpQMuGUcR8_z-dNLSZMg   \n",
       "2  Łabędzia 37/2, Piaseczno  ChIJJ6twpQMuGUcR8_z-dNLSZMg   \n",
       "3  Łabędzia 37/2, Piaseczno  ChIJJ6twpQMuGUcR8_z-dNLSZMg   \n",
       "4  Łabędzia 37/2, Piaseczno  ChIJJ6twpQMuGUcR8_z-dNLSZMg   \n",
       "\n",
       "                   types rating user_ratings_total        lat        lng  \\\n",
       "0  doctor,dentist,health    3.2               15.0  52.096356  21.011951   \n",
       "1  doctor,dentist,health    3.2               15.0  52.096356  21.011951   \n",
       "2  doctor,dentist,health    3.2               15.0  52.096356  21.011951   \n",
       "3  doctor,dentist,health    3.2               15.0  52.096356  21.011951   \n",
       "4  doctor,dentist,health    3.2               15.0  52.096356  21.011951   \n",
       "\n",
       "      type hour occupancy_index occupancy_text     day  \\\n",
       "0  dentist    6               0                 Sunday   \n",
       "1  dentist    7               0                 Sunday   \n",
       "2  dentist    8               0                 Sunday   \n",
       "3  dentist    9               0                 Sunday   \n",
       "4  dentist   10               0                 Sunday   \n",
       "\n",
       "                                  av_time_spent min_time_spent_minutes  \\\n",
       "0  People typically spend 25 min to 1.5 hr here                     25   \n",
       "1  People typically spend 25 min to 1.5 hr here                     25   \n",
       "2  People typically spend 25 min to 1.5 hr here                     25   \n",
       "3  People typically spend 25 min to 1.5 hr here                     25   \n",
       "4  People typically spend 25 min to 1.5 hr here                     25   \n",
       "\n",
       "  max_time_spent_minutes                       geometry  \n",
       "0                     90  POINT (21.0119505 52.0963563)  \n",
       "1                     90  POINT (21.0119505 52.0963563)  \n",
       "2                     90  POINT (21.0119505 52.0963563)  \n",
       "3                     90  POINT (21.0119505 52.0963563)  \n",
       "4                     90  POINT (21.0119505 52.0963563)  "
      ]
     },
     "execution_count": 18,
     "metadata": {},
     "output_type": "execute_result"
    }
   ],
   "source": [
    "data_gdf.head()"
   ]
  },
  {
   "cell_type": "code",
   "execution_count": 19,
   "metadata": {},
   "outputs": [
    {
     "data": {
      "text/plain": [
       "array(['doctor,dentist,health', 'dentist,health', 'dentist,doctor,health',\n",
       "       'doctor,dentist,veterinary_care,health',\n",
       "       'spa,beauty_salon,hair_care,dentist,health',\n",
       "       'beauty_salon,hair_care,doctor,dentist,health',\n",
       "       'dentist,doctor,health,store', 'beauty_salon,dentist,health',\n",
       "       'hospital,doctor,dentist,health', 'dentist,hospital,doctor,health',\n",
       "       'dentist,physiotherapist,doctor,health',\n",
       "       'physiotherapist,doctor,dentist,health,store',\n",
       "       'physiotherapist,hospital,doctor,health',\n",
       "       'beauty_salon,hair_care,doctor,spa,health', 'doctor,health',\n",
       "       'physiotherapist,doctor,health', 'hospital,doctor,health',\n",
       "       'beauty_salon,hair_care,doctor,health', 'doctor,gym,health',\n",
       "       'shoe_store,doctor,health,store', 'doctor,health,store',\n",
       "       'pharmacy,doctor,veterinary_care,health,store',\n",
       "       'doctor,veterinary_care,health',\n",
       "       'physiotherapist,doctor,health,store',\n",
       "       'beauty_salon,hair_care,doctor,health,store',\n",
       "       'beauty_salon,doctor,spa,health', 'doctor,physiotherapist,health',\n",
       "       'shoe_store,doctor,furniture_store,home_goods_store,health,store',\n",
       "       'beauty_salon,doctor,health', 'pharmacy,doctor,health,store',\n",
       "       'beauty_salon,hair_care,physiotherapist,doctor,spa,health',\n",
       "       'physiotherapist,doctor,school,health',\n",
       "       'beauty_salon,doctor,spa,health,store',\n",
       "       'doctor,spa,school,gym,health',\n",
       "       'pet_store,doctor,veterinary_care,health,store',\n",
       "       'shoe_store,physiotherapist,doctor,health,store',\n",
       "       'doctor,beauty_salon,hair_care,spa,health',\n",
       "       'beauty_salon,doctor,health,store',\n",
       "       'physiotherapist,doctor,spa,health',\n",
       "       'doctor,restaurant,food,health', 'hospital', 'hospital,health',\n",
       "       'hospital,health,store', 'physiotherapist,hospital,health',\n",
       "       'pharmacy,health,store', 'pharmacy,veterinary_care,health,store',\n",
       "       'pharmacy,veterinary_care,food,health,store',\n",
       "       'pharmacy,health,clothing_store,store'], dtype=object)"
      ]
     },
     "execution_count": 19,
     "metadata": {},
     "output_type": "execute_result"
    }
   ],
   "source": [
    "data_gdf['types'].unique()"
   ]
  },
  {
   "cell_type": "code",
   "execution_count": 21,
   "metadata": {},
   "outputs": [
    {
     "name": "stderr",
     "output_type": "stream",
     "text": [
      "/home/m/.local/lib/python3.7/site-packages/geopandas/plotting.py:418: UserWarning: The GeoDataFrame you are attempting to plot is empty. Nothing has been displayed.\n",
      "  \"empty. Nothing has been displayed.\", UserWarning)\n"
     ]
    },
    {
     "data": {
      "text/plain": [
       "<matplotlib.axes._subplots.AxesSubplot at 0x7fcf92cda860>"
      ]
     },
     "execution_count": 21,
     "metadata": {},
     "output_type": "execute_result"
    },
    {
     "data": {
      "image/png": "[encoded data removed]",
      "text/plain": [
       "<Figure size 432x288 with 1 Axes>"
      ]
     },
     "metadata": {
      "needs_background": "light"
     },
     "output_type": "display_data"
    }
   ],
   "source": [
    "data_gdf.loc[data_gdf['types'].isin(['doctor'])].plot(ax=map_gdf.plot(), marker='o', color='red', markersize=5)"
   ]
  },
  {
   "cell_type": "code",
   "execution_count": 40,
   "metadata": {},
   "outputs": [],
   "source": [
    "doctors = data_gdf.loc[data_gdf['types'].str.match('doctor')] "
   ]
  },
  {
   "cell_type": "code",
   "execution_count": 41,
   "metadata": {},
   "outputs": [
    {
     "data": {
      "text/plain": [
       "<matplotlib.axes._subplots.AxesSubplot at 0x7fcf92cad710>"
      ]
     },
     "execution_count": 41,
     "metadata": {},
     "output_type": "execute_result"
    },
    {
     "data": {
      "image/png": "[encoded data removed]",
      "text/plain": [
       "<Figure size 432x288 with 1 Axes>"
      ]
     },
     "metadata": {
      "needs_background": "light"
     },
     "output_type": "display_data"
    }
   ],
   "source": [
    "doctors.plot()"
   ]
  },
  {
   "cell_type": "code",
   "execution_count": 80,
   "metadata": {},
   "outputs": [],
   "source": [
    "klustering = KMeans(n_clusters=10)"
   ]
  },
  {
   "cell_type": "code",
   "execution_count": 81,
   "metadata": {},
   "outputs": [],
   "source": [
    "coor_doctors = gpd.GeoDataFrame(doctors, columns=('x', 'y'))"
   ]
  },
  {
   "cell_type": "code",
   "execution_count": 82,
   "metadata": {},
   "outputs": [
    {
     "data": {
      "text/plain": [
       "Index(['field_1', 'x', 'y', 'name', 'vicinity', 'place_id', 'types', 'rating',\n",
       "       'user_ratings_total', 'lat', 'lng', 'type', 'hour', 'occupancy_index',\n",
       "       'occupancy_text', 'day', 'av_time_spent', 'min_time_spent_minutes',\n",
       "       'max_time_spent_minutes', 'geometry'],\n",
       "      dtype='object')"
      ]
     },
     "execution_count": 82,
     "metadata": {},
     "output_type": "execute_result"
    }
   ],
   "source": [
    "doctors.columns"
   ]
  },
  {
   "cell_type": "code",
   "execution_count": 83,
   "metadata": {},
   "outputs": [
    {
     "data": {
      "text/html": [
       "<div>\n",
       "<style scoped>\n",
       "    .dataframe tbody tr th:only-of-type {\n",
       "        vertical-align: middle;\n",
       "    }\n",
       "\n",
       "    .dataframe tbody tr th {\n",
       "        vertical-align: top;\n",
       "    }\n",
       "\n",
       "    .dataframe thead th {\n",
       "        text-align: right;\n",
       "    }\n",
       "</style>\n",
       "<table border=\"1\" class=\"dataframe\">\n",
       "  <thead>\n",
       "    <tr style=\"text-align: right;\">\n",
       "      <th></th>\n",
       "      <th>x</th>\n",
       "      <th>y</th>\n",
       "    </tr>\n",
       "  </thead>\n",
       "  <tbody>\n",
       "    <tr>\n",
       "      <td>0</td>\n",
       "      <td>52.108079529075006</td>\n",
       "      <td>21.008527272811</td>\n",
       "    </tr>\n",
       "    <tr>\n",
       "      <td>1</td>\n",
       "      <td>52.108079529075006</td>\n",
       "      <td>21.008527272811</td>\n",
       "    </tr>\n",
       "    <tr>\n",
       "      <td>2</td>\n",
       "      <td>52.108079529075006</td>\n",
       "      <td>21.008527272811</td>\n",
       "    </tr>\n",
       "    <tr>\n",
       "      <td>3</td>\n",
       "      <td>52.108079529075006</td>\n",
       "      <td>21.008527272811</td>\n",
       "    </tr>\n",
       "    <tr>\n",
       "      <td>4</td>\n",
       "      <td>52.108079529075006</td>\n",
       "      <td>21.008527272811</td>\n",
       "    </tr>\n",
       "  </tbody>\n",
       "</table>\n",
       "</div>"
      ],
      "text/plain": [
       "                    x                y\n",
       "0  52.108079529075006  21.008527272811\n",
       "1  52.108079529075006  21.008527272811\n",
       "2  52.108079529075006  21.008527272811\n",
       "3  52.108079529075006  21.008527272811\n",
       "4  52.108079529075006  21.008527272811"
      ]
     },
     "execution_count": 83,
     "metadata": {},
     "output_type": "execute_result"
    }
   ],
   "source": [
    "coor_doctors.head()"
   ]
  },
  {
   "cell_type": "code",
   "execution_count": 84,
   "metadata": {},
   "outputs": [
    {
     "data": {
      "text/plain": [
       "KMeans(algorithm='auto', copy_x=True, init='k-means++', max_iter=300,\n",
       "       n_clusters=10, n_init=10, n_jobs=None, precompute_distances='auto',\n",
       "       random_state=None, tol=0.0001, verbose=0)"
      ]
     },
     "execution_count": 84,
     "metadata": {},
     "output_type": "execute_result"
    }
   ],
   "source": [
    "klustering.fit(coor_doctors)"
   ]
  },
  {
   "cell_type": "code",
   "execution_count": null,
   "metadata": {},
   "outputs": [
    {
     "data": {
      "text/plain": [
       "<matplotlib.axes._subplots.AxesSubplot at 0x7fcf92b73cf8>"
      ]
     },
     "execution_count": 86,
     "metadata": {},
     "output_type": "execute_result"
    }
   ],
   "source": [
    "doctors.plot(ax=map_gdf.plot(), c=klustering.labels_.astype(float))"
   ]
  },
  {
   "cell_type": "code",
   "execution_count": null,
   "metadata": {},
   "outputs": [],
   "source": []
  }
 ],
 "metadata": {
  "kernelspec": {
   "display_name": "Python 3",
   "language": "python",
   "name": "python3"
  },
  "language_info": {
   "codemirror_mode": {
    "name": "ipython",
    "version": 3
   },
   "file_extension": ".py",
   "mimetype": "text/x-python",
   "name": "python",
   "nbconvert_exporter": "python",
   "pygments_lexer": "ipython3",
   "version": "3.7.3"
  }
 },
 "nbformat": 4,
 "nbformat_minor": 2
}
